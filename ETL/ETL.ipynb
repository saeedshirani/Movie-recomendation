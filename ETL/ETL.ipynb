{
 "cells": [
  {
   "cell_type": "markdown",
   "metadata": {},
   "source": [
    "# Introduction"
   ]
  },
  {
   "cell_type": "markdown",
   "metadata": {},
   "source": [
    "this is a ETL on Movie lens 1M dataset and data is downloaded form this link in below: \n",
    "\n",
    "###### https://www.kaggle.com/datasets/odedgolden/movielens-1m-dataset?select=README\n",
    "\n",
    "I will create a new dataframe for the data contained in these three \".dat\" files, where each column will be assigned a proper name according to the column names listed on the Kaggle website. Subsequently, I will save this dataframe into a new CSV file containing all the data."
   ]
  },
  {
   "cell_type": "code",
   "execution_count": 14,
   "metadata": {},
   "outputs": [],
   "source": [
    "import pandas as pd \n",
    "import os"
   ]
  },
  {
   "cell_type": "markdown",
   "metadata": {},
   "source": [
    "# Import Data"
   ]
  },
  {
   "cell_type": "code",
   "execution_count": 3,
   "metadata": {},
   "outputs": [],
   "source": [
    "movie_data = pd.read_csv(\"./MovieLens 1M Dataset/movies.dat\", sep=\"::\", encoding=\"latin\", engine=\"python\")\n",
    "rating_data = pd.read_csv(\"./MovieLens 1M Dataset/ratings.dat\", sep=\"::\", encoding=\"latin\", engine=\"python\")\n",
    "users_data = pd.read_csv(\"./MovieLens 1M Dataset/users.dat\", sep=\"::\", encoding=\"latin\", engine=\"python\")"
   ]
  },
  {
   "cell_type": "markdown",
   "metadata": {},
   "source": [
    "# Adding Column Names"
   ]
  },
  {
   "cell_type": "code",
   "execution_count": 8,
   "metadata": {},
   "outputs": [],
   "source": [
    "users_data.columns = [\"user_id\", \"gender\", \"age\", \"occupation\", \"zip_code\"]\n",
    "rating_data.columns = [\"user_id\", \"movie_id\", \"rating\", \"timestamp\"]\n",
    "movie_data.columns = [\"movie_id\", \"title\", \"genres\"]"
   ]
  },
  {
   "cell_type": "markdown",
   "metadata": {},
   "source": [
    "# Create Final CSV File"
   ]
  },
  {
   "cell_type": "markdown",
   "metadata": {},
   "source": [
    "I'll perform a merge between the user_data and rating_data dataframes based on the `\"user_id\"` column. Following that, I'll merge the resulting dataframe with the movie_data dataframe using the `\"movie_id\"` column."
   ]
  },
  {
   "cell_type": "code",
   "execution_count": 15,
   "metadata": {},
   "outputs": [],
   "source": [
    "MovieLens1M_Dataset = pd.merge(pd.merge(users_data, rating_data, on=\"user_id\"), movie_data, on=\"movie_id\")"
   ]
  },
  {
   "cell_type": "code",
   "execution_count": 17,
   "metadata": {},
   "outputs": [
    {
     "data": {
      "text/html": [
       "<div>\n",
       "<style scoped>\n",
       "    .dataframe tbody tr th:only-of-type {\n",
       "        vertical-align: middle;\n",
       "    }\n",
       "\n",
       "    .dataframe tbody tr th {\n",
       "        vertical-align: top;\n",
       "    }\n",
       "\n",
       "    .dataframe thead th {\n",
       "        text-align: right;\n",
       "    }\n",
       "</style>\n",
       "<table border=\"1\" class=\"dataframe\">\n",
       "  <thead>\n",
       "    <tr style=\"text-align: right;\">\n",
       "      <th></th>\n",
       "      <th>user_id</th>\n",
       "      <th>gender</th>\n",
       "      <th>age</th>\n",
       "      <th>occupation</th>\n",
       "      <th>zip_code</th>\n",
       "      <th>movie_id</th>\n",
       "      <th>rating</th>\n",
       "      <th>timestamp</th>\n",
       "      <th>title</th>\n",
       "      <th>genres</th>\n",
       "    </tr>\n",
       "  </thead>\n",
       "  <tbody>\n",
       "    <tr>\n",
       "      <th>0</th>\n",
       "      <td>2</td>\n",
       "      <td>M</td>\n",
       "      <td>56</td>\n",
       "      <td>16</td>\n",
       "      <td>70072</td>\n",
       "      <td>1357</td>\n",
       "      <td>5</td>\n",
       "      <td>978298709</td>\n",
       "      <td>Shine (1996)</td>\n",
       "      <td>Drama|Romance</td>\n",
       "    </tr>\n",
       "    <tr>\n",
       "      <th>1</th>\n",
       "      <td>2</td>\n",
       "      <td>M</td>\n",
       "      <td>56</td>\n",
       "      <td>16</td>\n",
       "      <td>70072</td>\n",
       "      <td>3068</td>\n",
       "      <td>4</td>\n",
       "      <td>978299000</td>\n",
       "      <td>Verdict, The (1982)</td>\n",
       "      <td>Drama</td>\n",
       "    </tr>\n",
       "  </tbody>\n",
       "</table>\n",
       "</div>"
      ],
      "text/plain": [
       "   user_id gender  age  occupation zip_code  movie_id  rating  timestamp  \\\n",
       "0        2      M   56          16    70072      1357       5  978298709   \n",
       "1        2      M   56          16    70072      3068       4  978299000   \n",
       "\n",
       "                 title         genres  \n",
       "0         Shine (1996)  Drama|Romance  \n",
       "1  Verdict, The (1982)          Drama  "
      ]
     },
     "execution_count": 17,
     "metadata": {},
     "output_type": "execute_result"
    }
   ],
   "source": [
    "MovieLens1M_Dataset.head(2)"
   ]
  },
  {
   "cell_type": "markdown",
   "metadata": {},
   "source": [
    "# Storing The Data "
   ]
  },
  {
   "cell_type": "code",
   "execution_count": 18,
   "metadata": {},
   "outputs": [],
   "source": [
    "folder_path = '../Data'\n",
    "if not os.path.exists(folder_path):\n",
    "    os.makedirs(folder_path)\n",
    "\n",
    "# Save each DataFrame to a CSV file in the new folder\n",
    "MovieLens1M_Dataset.to_csv(os.path.join(folder_path, 'MovieLens1M_Dataset.csv'), index=False)\n",
    "\n"
   ]
  },
  {
   "cell_type": "code",
   "execution_count": null,
   "metadata": {},
   "outputs": [],
   "source": []
  }
 ],
 "metadata": {
  "kernelspec": {
   "display_name": "Python 3",
   "language": "python",
   "name": "python3"
  },
  "language_info": {
   "codemirror_mode": {
    "name": "ipython",
    "version": 3
   },
   "file_extension": ".py",
   "mimetype": "text/x-python",
   "name": "python",
   "nbconvert_exporter": "python",
   "pygments_lexer": "ipython3",
   "version": "3.11.0"
  }
 },
 "nbformat": 4,
 "nbformat_minor": 2
}
